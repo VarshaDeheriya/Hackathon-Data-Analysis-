{
 "cells": [
  {
   "cell_type": "code",
   "execution_count": 14,
   "id": "8679c56d",
   "metadata": {
    "ExecuteTime": {
     "end_time": "2023-09-02T09:05:24.580850Z",
     "start_time": "2023-09-02T09:05:24.574845Z"
    }
   },
   "outputs": [],
   "source": [
    "import pandas as pd\n",
    "import numpy as np"
   ]
  },
  {
   "cell_type": "code",
   "execution_count": 3,
   "id": "07b6fca5",
   "metadata": {
    "ExecuteTime": {
     "end_time": "2023-09-02T09:04:11.000631Z",
     "start_time": "2023-09-02T09:04:09.788113Z"
    }
   },
   "outputs": [],
   "source": [
    "df1 = pd.read_csv(r\"E:\\Excel_files\\uber_rides.csv\")"
   ]
  },
  {
   "cell_type": "code",
   "execution_count": 4,
   "id": "6e0e8b4b",
   "metadata": {
    "ExecuteTime": {
     "end_time": "2023-09-02T09:04:15.244363Z",
     "start_time": "2023-09-02T09:04:15.221327Z"
    }
   },
   "outputs": [
    {
     "data": {
      "text/plain": [
       "(200000, 8)"
      ]
     },
     "execution_count": 4,
     "metadata": {},
     "output_type": "execute_result"
    }
   ],
   "source": [
    "# What is the shape of given dataset?\n",
    "\n",
    "df1.shape"
   ]
  },
  {
   "cell_type": "code",
   "execution_count": 5,
   "id": "147f74fc",
   "metadata": {
    "ExecuteTime": {
     "end_time": "2023-09-02T09:04:16.351450Z",
     "start_time": "2023-09-02T09:04:16.180186Z"
    }
   },
   "outputs": [
    {
     "name": "stdout",
     "output_type": "stream",
     "text": [
      "<class 'pandas.core.frame.DataFrame'>\n",
      "RangeIndex: 200000 entries, 0 to 199999\n",
      "Data columns (total 8 columns):\n",
      " #   Column             Non-Null Count   Dtype  \n",
      "---  ------             --------------   -----  \n",
      " 0   ride_id            200000 non-null  int64  \n",
      " 1   fare_amount        200000 non-null  float64\n",
      " 2   pickup_datetime    200000 non-null  object \n",
      " 3   pickup_longitude   200000 non-null  float64\n",
      " 4   pickup_latitude    200000 non-null  float64\n",
      " 5   dropoff_longitude  199999 non-null  float64\n",
      " 6   dropoff_latitude   199999 non-null  float64\n",
      " 7   passenger_count    200000 non-null  int64  \n",
      "dtypes: float64(5), int64(2), object(1)\n",
      "memory usage: 12.2+ MB\n"
     ]
    }
   ],
   "source": [
    "# How many integer columns(by default) are given in the dataset?\n",
    "# What is the data type of ' pickup_datetime' feature in your data?\n",
    "\n",
    "\n",
    "df1.info()"
   ]
  },
  {
   "cell_type": "code",
   "execution_count": 6,
   "id": "a3b2391e",
   "metadata": {
    "ExecuteTime": {
     "end_time": "2023-09-02T09:04:17.067177Z",
     "start_time": "2023-09-02T09:04:17.019100Z"
    }
   },
   "outputs": [
    {
     "data": {
      "text/plain": [
       "ride_id              0\n",
       "fare_amount          0\n",
       "pickup_datetime      0\n",
       "pickup_longitude     0\n",
       "pickup_latitude      0\n",
       "dropoff_longitude    1\n",
       "dropoff_latitude     1\n",
       "passenger_count      0\n",
       "dtype: int64"
      ]
     },
     "execution_count": 6,
     "metadata": {},
     "output_type": "execute_result"
    }
   ],
   "source": [
    "# How many missing values exists in 'dropoff_longitude' column?\n",
    "\n",
    "\n",
    "df1.isna().sum()"
   ]
  },
  {
   "cell_type": "code",
   "execution_count": 7,
   "id": "749784ba",
   "metadata": {
    "ExecuteTime": {
     "end_time": "2023-09-02T09:04:29.872969Z",
     "start_time": "2023-09-02T09:04:17.829534Z"
    }
   },
   "outputs": [
    {
     "data": {
      "text/html": [
       "<div>\n",
       "<style scoped>\n",
       "    .dataframe tbody tr th:only-of-type {\n",
       "        vertical-align: middle;\n",
       "    }\n",
       "\n",
       "    .dataframe tbody tr th {\n",
       "        vertical-align: top;\n",
       "    }\n",
       "\n",
       "    .dataframe thead th {\n",
       "        text-align: right;\n",
       "    }\n",
       "</style>\n",
       "<table border=\"1\" class=\"dataframe\">\n",
       "  <thead>\n",
       "    <tr style=\"text-align: right;\">\n",
       "      <th></th>\n",
       "      <th>ride_id</th>\n",
       "      <th>fare_amount</th>\n",
       "      <th>pickup_datetime</th>\n",
       "      <th>pickup_longitude</th>\n",
       "      <th>pickup_latitude</th>\n",
       "      <th>dropoff_longitude</th>\n",
       "      <th>dropoff_latitude</th>\n",
       "      <th>passenger_count</th>\n",
       "    </tr>\n",
       "  </thead>\n",
       "  <tbody>\n",
       "    <tr>\n",
       "      <th>0</th>\n",
       "      <td>24238194</td>\n",
       "      <td>7.5</td>\n",
       "      <td>2015-05-07 19:52:06+00:00</td>\n",
       "      <td>-73.999817</td>\n",
       "      <td>40.738354</td>\n",
       "      <td>-73.999512</td>\n",
       "      <td>40.723217</td>\n",
       "      <td>1</td>\n",
       "    </tr>\n",
       "    <tr>\n",
       "      <th>1</th>\n",
       "      <td>27835199</td>\n",
       "      <td>7.7</td>\n",
       "      <td>2009-07-17 20:04:56+00:00</td>\n",
       "      <td>-73.994355</td>\n",
       "      <td>40.728225</td>\n",
       "      <td>-73.994710</td>\n",
       "      <td>40.750325</td>\n",
       "      <td>1</td>\n",
       "    </tr>\n",
       "    <tr>\n",
       "      <th>2</th>\n",
       "      <td>44984355</td>\n",
       "      <td>12.9</td>\n",
       "      <td>2009-08-24 21:45:00+00:00</td>\n",
       "      <td>-74.005043</td>\n",
       "      <td>40.740770</td>\n",
       "      <td>-73.962565</td>\n",
       "      <td>40.772647</td>\n",
       "      <td>1</td>\n",
       "    </tr>\n",
       "    <tr>\n",
       "      <th>3</th>\n",
       "      <td>25894730</td>\n",
       "      <td>5.3</td>\n",
       "      <td>2009-06-26 08:22:21+00:00</td>\n",
       "      <td>-73.976124</td>\n",
       "      <td>40.790844</td>\n",
       "      <td>-73.965316</td>\n",
       "      <td>40.803349</td>\n",
       "      <td>3</td>\n",
       "    </tr>\n",
       "    <tr>\n",
       "      <th>4</th>\n",
       "      <td>17610152</td>\n",
       "      <td>16.0</td>\n",
       "      <td>2014-08-28 17:47:00+00:00</td>\n",
       "      <td>-73.925023</td>\n",
       "      <td>40.744085</td>\n",
       "      <td>-73.973082</td>\n",
       "      <td>40.761247</td>\n",
       "      <td>5</td>\n",
       "    </tr>\n",
       "    <tr>\n",
       "      <th>...</th>\n",
       "      <td>...</td>\n",
       "      <td>...</td>\n",
       "      <td>...</td>\n",
       "      <td>...</td>\n",
       "      <td>...</td>\n",
       "      <td>...</td>\n",
       "      <td>...</td>\n",
       "      <td>...</td>\n",
       "    </tr>\n",
       "    <tr>\n",
       "      <th>199995</th>\n",
       "      <td>42598914</td>\n",
       "      <td>3.0</td>\n",
       "      <td>2012-10-28 10:49:00+00:00</td>\n",
       "      <td>-73.987042</td>\n",
       "      <td>40.739367</td>\n",
       "      <td>-73.986525</td>\n",
       "      <td>40.740297</td>\n",
       "      <td>1</td>\n",
       "    </tr>\n",
       "    <tr>\n",
       "      <th>199996</th>\n",
       "      <td>16382965</td>\n",
       "      <td>7.5</td>\n",
       "      <td>2014-03-14 01:09:00+00:00</td>\n",
       "      <td>-73.984722</td>\n",
       "      <td>40.736837</td>\n",
       "      <td>-74.006672</td>\n",
       "      <td>40.739620</td>\n",
       "      <td>1</td>\n",
       "    </tr>\n",
       "    <tr>\n",
       "      <th>199997</th>\n",
       "      <td>27804658</td>\n",
       "      <td>30.9</td>\n",
       "      <td>2009-06-29 00:42:00+00:00</td>\n",
       "      <td>-73.986017</td>\n",
       "      <td>40.756487</td>\n",
       "      <td>-73.858957</td>\n",
       "      <td>40.692588</td>\n",
       "      <td>2</td>\n",
       "    </tr>\n",
       "    <tr>\n",
       "      <th>199998</th>\n",
       "      <td>20259894</td>\n",
       "      <td>14.5</td>\n",
       "      <td>2015-05-20 14:56:25+00:00</td>\n",
       "      <td>-73.997124</td>\n",
       "      <td>40.725452</td>\n",
       "      <td>-73.983215</td>\n",
       "      <td>40.695416</td>\n",
       "      <td>1</td>\n",
       "    </tr>\n",
       "    <tr>\n",
       "      <th>199999</th>\n",
       "      <td>11951496</td>\n",
       "      <td>14.1</td>\n",
       "      <td>2010-05-15 04:08:00+00:00</td>\n",
       "      <td>-73.984395</td>\n",
       "      <td>40.720077</td>\n",
       "      <td>-73.985508</td>\n",
       "      <td>40.768793</td>\n",
       "      <td>1</td>\n",
       "    </tr>\n",
       "  </tbody>\n",
       "</table>\n",
       "<p>200000 rows × 8 columns</p>\n",
       "</div>"
      ],
      "text/plain": [
       "         ride_id  fare_amount           pickup_datetime  pickup_longitude   \n",
       "0       24238194          7.5 2015-05-07 19:52:06+00:00        -73.999817  \\\n",
       "1       27835199          7.7 2009-07-17 20:04:56+00:00        -73.994355   \n",
       "2       44984355         12.9 2009-08-24 21:45:00+00:00        -74.005043   \n",
       "3       25894730          5.3 2009-06-26 08:22:21+00:00        -73.976124   \n",
       "4       17610152         16.0 2014-08-28 17:47:00+00:00        -73.925023   \n",
       "...          ...          ...                       ...               ...   \n",
       "199995  42598914          3.0 2012-10-28 10:49:00+00:00        -73.987042   \n",
       "199996  16382965          7.5 2014-03-14 01:09:00+00:00        -73.984722   \n",
       "199997  27804658         30.9 2009-06-29 00:42:00+00:00        -73.986017   \n",
       "199998  20259894         14.5 2015-05-20 14:56:25+00:00        -73.997124   \n",
       "199999  11951496         14.1 2010-05-15 04:08:00+00:00        -73.984395   \n",
       "\n",
       "        pickup_latitude  dropoff_longitude  dropoff_latitude  passenger_count  \n",
       "0             40.738354         -73.999512         40.723217                1  \n",
       "1             40.728225         -73.994710         40.750325                1  \n",
       "2             40.740770         -73.962565         40.772647                1  \n",
       "3             40.790844         -73.965316         40.803349                3  \n",
       "4             40.744085         -73.973082         40.761247                5  \n",
       "...                 ...                ...               ...              ...  \n",
       "199995        40.739367         -73.986525         40.740297                1  \n",
       "199996        40.736837         -74.006672         40.739620                1  \n",
       "199997        40.756487         -73.858957         40.692588                2  \n",
       "199998        40.725452         -73.983215         40.695416                1  \n",
       "199999        40.720077         -73.985508         40.768793                1  \n",
       "\n",
       "[200000 rows x 8 columns]"
      ]
     },
     "execution_count": 7,
     "metadata": {},
     "output_type": "execute_result"
    }
   ],
   "source": [
    "# Which of the following is the correct syntax to convert 'pickup_datetime' to datetime datatype?\n",
    "\n",
    "df1['pickup_datetime'] = pd.to_datetime(df1['pickup_datetime'])\n",
    "df1"
   ]
  },
  {
   "cell_type": "code",
   "execution_count": 8,
   "id": "1f121b42",
   "metadata": {
    "ExecuteTime": {
     "end_time": "2023-09-02T09:04:31.712553Z",
     "start_time": "2023-09-02T09:04:31.707543Z"
    }
   },
   "outputs": [],
   "source": [
    "# df1['pickup_datetime'].astype('datetime64[ns]')"
   ]
  },
  {
   "cell_type": "code",
   "execution_count": 9,
   "id": "9f31af5a",
   "metadata": {
    "ExecuteTime": {
     "end_time": "2023-09-02T09:04:32.645388Z",
     "start_time": "2023-09-02T09:04:32.577283Z"
    }
   },
   "outputs": [],
   "source": [
    "# Which function can be used to remove null values from the dataframe?\n",
    "\n",
    "\n",
    "df1.dropna(inplace = True)"
   ]
  },
  {
   "cell_type": "code",
   "execution_count": 10,
   "id": "a175edc4",
   "metadata": {
    "ExecuteTime": {
     "end_time": "2023-09-02T09:04:33.578824Z",
     "start_time": "2023-09-02T09:04:33.552784Z"
    }
   },
   "outputs": [
    {
     "name": "stdout",
     "output_type": "stream",
     "text": [
      "<class 'pandas.core.frame.DataFrame'>\n",
      "Index: 199999 entries, 0 to 199999\n",
      "Data columns (total 8 columns):\n",
      " #   Column             Non-Null Count   Dtype              \n",
      "---  ------             --------------   -----              \n",
      " 0   ride_id            199999 non-null  int64              \n",
      " 1   fare_amount        199999 non-null  float64            \n",
      " 2   pickup_datetime    199999 non-null  datetime64[ns, UTC]\n",
      " 3   pickup_longitude   199999 non-null  float64            \n",
      " 4   pickup_latitude    199999 non-null  float64            \n",
      " 5   dropoff_longitude  199999 non-null  float64            \n",
      " 6   dropoff_latitude   199999 non-null  float64            \n",
      " 7   passenger_count    199999 non-null  int64              \n",
      "dtypes: datetime64[ns, UTC](1), float64(5), int64(2)\n",
      "memory usage: 13.7 MB\n"
     ]
    }
   ],
   "source": [
    "df1.info()"
   ]
  },
  {
   "cell_type": "code",
   "execution_count": 11,
   "id": "7f124792",
   "metadata": {
    "ExecuteTime": {
     "end_time": "2023-09-02T09:04:36.020731Z",
     "start_time": "2023-09-02T09:04:36.007710Z"
    }
   },
   "outputs": [
    {
     "name": "stdout",
     "output_type": "stream",
     "text": [
      "11.359891549457748\n"
     ]
    }
   ],
   "source": [
    "# What is the average fare amount?\n",
    "# Remove the null values from the dataframe to answer the following question.\n",
    "\n",
    "# average = (sum)/(count)\n",
    "\n",
    "average = df1[\"fare_amount\"].sum()/df1[\"fare_amount\"].count()\n",
    "print(average)"
   ]
  },
  {
   "cell_type": "code",
   "execution_count": 41,
   "id": "84cb42e7",
   "metadata": {
    "ExecuteTime": {
     "end_time": "2023-09-02T09:47:39.464297Z",
     "start_time": "2023-09-02T09:47:39.450274Z"
    }
   },
   "outputs": [],
   "source": [
    "# Calculate distance between each pickup and dropoff points using Haversine formula. \n",
    "# What is the median haversine distance between pickup and dropoff location according to the given dataset?\n",
    "# Read about Haversine Distance here: https://en.wikipedia.org/wiki/Haversine_formula\n",
    "\n",
    "def haversine(lat1, lon1, lat2, lon2):\n",
    "  \n",
    "    R = 6371.0\n",
    "\n",
    "    lat1_rad = np.radians(lat1)\n",
    "    lon1_rad = np.radians(lon1)\n",
    "    lat2_rad = np.radians(lat2)\n",
    "    lon2_rad = np.radians(lon2)\n",
    "\n",
    "    \n",
    "    dlon = lon2_rad - lon1_rad\n",
    "    dlat = lat2_rad - lat1_rad\n",
    "\n",
    "    \n",
    "    a = np.sin(dlat / 2)**2 + np.cos(lat1_rad) * np.cos(lat2_rad) * np.sin(dlon / 2)**2\n",
    "    c = 2 * np.arctan2(np.sqrt(a), np.sqrt(1 - a))\n",
    "\n",
    "    \n",
    "    distance = R * c\n",
    "    return distance"
   ]
  },
  {
   "cell_type": "code",
   "execution_count": 43,
   "id": "2b7c0d88",
   "metadata": {
    "ExecuteTime": {
     "end_time": "2023-09-02T09:49:54.592047Z",
     "start_time": "2023-09-02T09:49:40.665228Z"
    }
   },
   "outputs": [],
   "source": [
    "df1['distance'] = df1.apply(lambda row: haversine(\n",
    "    row['pickup_latitude'], row['pickup_longitude'],\n",
    "    row['dropoff_latitude'], row['dropoff_longitude']\n",
    "), axis=1)"
   ]
  },
  {
   "cell_type": "code",
   "execution_count": 70,
   "id": "385e72ee",
   "metadata": {
    "ExecuteTime": {
     "end_time": "2023-09-02T10:06:16.179808Z",
     "start_time": "2023-09-02T10:06:16.151765Z"
    }
   },
   "outputs": [
    {
     "data": {
      "text/html": [
       "<div>\n",
       "<style scoped>\n",
       "    .dataframe tbody tr th:only-of-type {\n",
       "        vertical-align: middle;\n",
       "    }\n",
       "\n",
       "    .dataframe tbody tr th {\n",
       "        vertical-align: top;\n",
       "    }\n",
       "\n",
       "    .dataframe thead th {\n",
       "        text-align: right;\n",
       "    }\n",
       "</style>\n",
       "<table border=\"1\" class=\"dataframe\">\n",
       "  <thead>\n",
       "    <tr style=\"text-align: right;\">\n",
       "      <th></th>\n",
       "      <th>distance</th>\n",
       "    </tr>\n",
       "  </thead>\n",
       "  <tbody>\n",
       "    <tr>\n",
       "      <th>0</th>\n",
       "      <td>1.683323</td>\n",
       "    </tr>\n",
       "    <tr>\n",
       "      <th>1</th>\n",
       "      <td>2.457590</td>\n",
       "    </tr>\n",
       "    <tr>\n",
       "      <th>2</th>\n",
       "      <td>5.036377</td>\n",
       "    </tr>\n",
       "    <tr>\n",
       "      <th>3</th>\n",
       "      <td>1.661683</td>\n",
       "    </tr>\n",
       "    <tr>\n",
       "      <th>4</th>\n",
       "      <td>4.475450</td>\n",
       "    </tr>\n",
       "    <tr>\n",
       "      <th>...</th>\n",
       "      <td>...</td>\n",
       "    </tr>\n",
       "    <tr>\n",
       "      <th>199995</th>\n",
       "      <td>0.112210</td>\n",
       "    </tr>\n",
       "    <tr>\n",
       "      <th>199996</th>\n",
       "      <td>1.875050</td>\n",
       "    </tr>\n",
       "    <tr>\n",
       "      <th>199997</th>\n",
       "      <td>12.850319</td>\n",
       "    </tr>\n",
       "    <tr>\n",
       "      <th>199998</th>\n",
       "      <td>3.539715</td>\n",
       "    </tr>\n",
       "    <tr>\n",
       "      <th>199999</th>\n",
       "      <td>5.417783</td>\n",
       "    </tr>\n",
       "  </tbody>\n",
       "</table>\n",
       "<p>199999 rows × 1 columns</p>\n",
       "</div>"
      ],
      "text/plain": [
       "         distance\n",
       "0        1.683323\n",
       "1        2.457590\n",
       "2        5.036377\n",
       "3        1.661683\n",
       "4        4.475450\n",
       "...           ...\n",
       "199995   0.112210\n",
       "199996   1.875050\n",
       "199997  12.850319\n",
       "199998   3.539715\n",
       "199999   5.417783\n",
       "\n",
       "[199999 rows x 1 columns]"
      ]
     },
     "execution_count": 70,
     "metadata": {},
     "output_type": "execute_result"
    }
   ],
   "source": [
    "df1[['distance']]"
   ]
  },
  {
   "cell_type": "code",
   "execution_count": 46,
   "id": "aa5a5c11",
   "metadata": {
    "ExecuteTime": {
     "end_time": "2023-09-02T09:50:58.310694Z",
     "start_time": "2023-09-02T09:50:58.288663Z"
    }
   },
   "outputs": [
    {
     "data": {
      "text/plain": [
       "2.1209923961833708"
      ]
     },
     "execution_count": 46,
     "metadata": {},
     "output_type": "execute_result"
    }
   ],
   "source": [
    "df1['distance'].median()\n"
   ]
  },
  {
   "cell_type": "code",
   "execution_count": 47,
   "id": "50b82e3a",
   "metadata": {
    "ExecuteTime": {
     "end_time": "2023-09-02T09:51:33.188065Z",
     "start_time": "2023-09-02T09:51:33.173040Z"
    }
   },
   "outputs": [
    {
     "data": {
      "text/plain": [
       "16409.239135313168"
      ]
     },
     "execution_count": 47,
     "metadata": {},
     "output_type": "execute_result"
    }
   ],
   "source": [
    "# What is the maximum haversine distance between pickup and dropoff location according to the given dataset?\n",
    "\n",
    "df1['distance'].max()\n"
   ]
  },
  {
   "cell_type": "code",
   "execution_count": 51,
   "id": "895ccf7d",
   "metadata": {
    "ExecuteTime": {
     "end_time": "2023-09-02T09:53:54.809834Z",
     "start_time": "2023-09-02T09:53:54.784796Z"
    }
   },
   "outputs": [
    {
     "data": {
      "text/plain": [
       "5632"
      ]
     },
     "execution_count": 51,
     "metadata": {},
     "output_type": "execute_result"
    }
   ],
   "source": [
    "# How many rides have 0.0 haversine distance between pickup and dropoff location according to the given dataset?\n",
    "\n",
    "zero_distance = df1[df1['distance'] == 0.0]\n",
    "len(zero_distance)"
   ]
  },
  {
   "cell_type": "code",
   "execution_count": 53,
   "id": "90330c34",
   "metadata": {
    "ExecuteTime": {
     "end_time": "2023-09-02T09:54:27.442265Z",
     "start_time": "2023-09-02T09:54:27.420229Z"
    }
   },
   "outputs": [
    {
     "data": {
      "text/plain": [
       "11.585317826704546"
      ]
     },
     "execution_count": 53,
     "metadata": {},
     "output_type": "execute_result"
    }
   ],
   "source": [
    "zero_distance = df1[df1['distance'] == 0.0]\n",
    "zero_distance['fare_amount'].mean()"
   ]
  },
  {
   "cell_type": "code",
   "execution_count": 35,
   "id": "4aab4f01",
   "metadata": {
    "ExecuteTime": {
     "end_time": "2023-09-02T07:36:36.426330Z",
     "start_time": "2023-09-02T07:36:36.331175Z"
    }
   },
   "outputs": [
    {
     "data": {
      "text/plain": [
       "499.0"
      ]
     },
     "execution_count": 35,
     "metadata": {},
     "output_type": "execute_result"
    }
   ],
   "source": [
    "# What is the maximum 'fare_amount' for a ride?\n",
    "\n",
    "df1[\"fare_amount\"].max()"
   ]
  },
  {
   "cell_type": "code",
   "execution_count": 55,
   "id": "09113340",
   "metadata": {
    "ExecuteTime": {
     "end_time": "2023-09-02T09:56:07.213084Z",
     "start_time": "2023-09-02T09:56:07.183032Z"
    }
   },
   "outputs": [
    {
     "data": {
      "text/plain": [
       "0.0007899213191009994"
      ]
     },
     "execution_count": 55,
     "metadata": {},
     "output_type": "execute_result"
    }
   ],
   "source": [
    "# What is the haversine distance between pickup and dropoff location for the costliest ride?\n",
    "#Do you sense something fishy? Try to analyze, and give your expert opinion in Jupyter Notebook.\n",
    "\n",
    "costliest_ride = df1[df1['fare_amount'] == df1['fare_amount'].max()]\n",
    "\n",
    "pickup_lat = costliest_ride['pickup_latitude'].values[0]\n",
    "pickup_lon = costliest_ride['pickup_longitude'].values[0]\n",
    "dropoff_lat = costliest_ride['dropoff_latitude'].values[0]\n",
    "dropoff_lon = costliest_ride['dropoff_longitude'].values[0]\n",
    "\n",
    "\n",
    "def haversine(lat1, lon1, lat2, lon2):\n",
    "    \n",
    "    R = 6371.0\n",
    "\n",
    "    lat1_rad = np.radians(lat1)\n",
    "    lon1_rad = np.radians(lon1)\n",
    "    lat2_rad = np.radians(lat2)\n",
    "    lon2_rad = np.radians(lon2)\n",
    "\n",
    "    dlon = lon2_rad - lon1_rad\n",
    "    dlat = lat2_rad - lat1_rad\n",
    "\n",
    "    a = np.sin(dlat / 2)**2 + np.cos(lat1_rad) * np.cos(lat2_rad) * np.sin(dlon / 2)**2\n",
    "    c = 2 * np.arctan2(np.sqrt(a), np.sqrt(1 - a))\n",
    "\n",
    "    \n",
    "    distance = R * c\n",
    "    return distance\n",
    "\n",
    "haversine(pickup_lat, pickup_lon, dropoff_lat, dropoff_lon)"
   ]
  },
  {
   "cell_type": "code",
   "execution_count": null,
   "id": "9b8e311c",
   "metadata": {
    "ExecuteTime": {
     "end_time": "2023-09-02T09:45:54.012255Z",
     "start_time": "2023-09-02T09:45:51.689497Z"
    }
   },
   "outputs": [],
   "source": []
  },
  {
   "cell_type": "code",
   "execution_count": 56,
   "id": "3c804924",
   "metadata": {
    "ExecuteTime": {
     "end_time": "2023-09-02T09:57:17.190716Z",
     "start_time": "2023-09-02T09:57:17.126611Z"
    }
   },
   "outputs": [
    {
     "data": {
      "text/plain": [
       "29968"
      ]
     },
     "execution_count": 56,
     "metadata": {},
     "output_type": "execute_result"
    }
   ],
   "source": [
    "# How many rides were recorded in the year 2014?\n",
    "\n",
    "df1['pickup_year'] = df1['pickup_datetime'].dt.year\n",
    "len(df1[df1['pickup_year'] == 2014])"
   ]
  },
  {
   "cell_type": "code",
   "execution_count": 57,
   "id": "cedb31d4",
   "metadata": {
    "ExecuteTime": {
     "end_time": "2023-09-02T09:57:18.581484Z",
     "start_time": "2023-09-02T09:57:18.492344Z"
    }
   },
   "outputs": [
    {
     "data": {
      "text/plain": [
       "7687"
      ]
     },
     "execution_count": 57,
     "metadata": {},
     "output_type": "execute_result"
    }
   ],
   "source": [
    "# How many rides were recorded in the first quarter of 2014?\n",
    "\n",
    "df1['pickup_year'] = df1['pickup_datetime'].dt.year\n",
    "df1['pickup_quarter'] = df1['pickup_datetime'].dt.quarter\n",
    "\n",
    "len(df1[(df1['pickup_year'] == 2014) & (df1['pickup_quarter'] == 1)])"
   ]
  },
  {
   "cell_type": "code",
   "execution_count": 58,
   "id": "63b9a721",
   "metadata": {
    "ExecuteTime": {
     "end_time": "2023-09-02T09:57:20.233247Z",
     "start_time": "2023-09-02T09:57:19.987870Z"
    }
   },
   "outputs": [
    {
     "data": {
      "text/plain": [
       "day_of_week\n",
       "Friday       354\n",
       "Monday       265\n",
       "Saturday     362\n",
       "Sunday       331\n",
       "Thursday     457\n",
       "Tuesday      322\n",
       "Wednesday    391\n",
       "Name: day_of_week, dtype: int64"
      ]
     },
     "execution_count": 58,
     "metadata": {},
     "output_type": "execute_result"
    }
   ],
   "source": [
    "# On which day of the week in September 2010, maximum rides were recorded \n",
    "\n",
    "df1['day_of_week'] = df1['pickup_datetime'].dt.day_name()\n",
    "df1['month'] = df1['pickup_datetime'].dt.month\n",
    "df1['year'] = df1['pickup_datetime'].dt.year\n",
    "september_2010_rides = df1[(df1['month'] == 9) & (df1['year'] == 2010)]\n",
    "september_2010_rides.groupby('day_of_week')['day_of_week'].count()"
   ]
  },
  {
   "cell_type": "code",
   "execution_count": 59,
   "id": "d15cff69",
   "metadata": {
    "ExecuteTime": {
     "end_time": "2023-09-02T09:57:25.210849Z",
     "start_time": "2023-09-02T09:57:24.969475Z"
    }
   },
   "outputs": [
    {
     "data": {
      "text/plain": [
       "0.0007899213191009994"
      ]
     },
     "execution_count": 59,
     "metadata": {},
     "output_type": "execute_result"
    }
   ],
   "source": [
    "# What is the mean 'fare_amount' for rides with 0 haversine distance?\n",
    "\n",
    "# Do you sense something fishy? Try to analyze, and give your expert opinion in Jupyter Notebook.\n",
    "\n",
    "costliest_ride = df1.sort_values(by='fare_amount', ascending=False).iloc[0]\n",
    "\n",
    "# Retrieve the coordinates\n",
    "pickup_lat = costliest_ride['pickup_latitude']\n",
    "pickup_lon = costliest_ride['pickup_longitude']\n",
    "dropoff_lat = costliest_ride['dropoff_latitude']\n",
    "dropoff_lon = costliest_ride['dropoff_longitude']\n",
    "\n",
    "# Calculate the Haversine distance\n",
    "haversine(pickup_lat, pickup_lon, dropoff_lat, dropoff_lon)"
   ]
  },
  {
   "cell_type": "code",
   "execution_count": null,
   "id": "a1d0b6a7",
   "metadata": {},
   "outputs": [],
   "source": [
    "## Machine Learning Problem"
   ]
  },
  {
   "cell_type": "code",
   "execution_count": 63,
   "id": "ab851f2f",
   "metadata": {
    "ExecuteTime": {
     "end_time": "2023-09-02T10:01:51.640193Z",
     "start_time": "2023-09-02T10:01:51.594119Z"
    }
   },
   "outputs": [
    {
     "data": {
      "text/plain": [
       "0         3\n",
       "1         4\n",
       "2         0\n",
       "3         4\n",
       "4         3\n",
       "         ..\n",
       "199995    6\n",
       "199996    4\n",
       "199997    0\n",
       "199998    2\n",
       "199999    5\n",
       "Name: ride_week_day, Length: 199999, dtype: int32"
      ]
     },
     "execution_count": 63,
     "metadata": {},
     "output_type": "execute_result"
    }
   ],
   "source": [
    "# Apply a Machine Learning Algorithm to predict the fare amount given following input features:\n",
    "# passenger_count, distance and ride_week_day.\n",
    "\n",
    "# Perform a 70-30 split of data.\n",
    "# df1.head()\n",
    "\n",
    "df1['ride_week_day'] = df1['pickup_datetime'].dt.dayofweek\n",
    "df1['ride_week_day']"
   ]
  },
  {
   "cell_type": "code",
   "execution_count": 65,
   "id": "667912a3",
   "metadata": {
    "ExecuteTime": {
     "end_time": "2023-09-02T10:02:16.675502Z",
     "start_time": "2023-09-02T10:02:16.624423Z"
    }
   },
   "outputs": [
    {
     "data": {
      "text/html": [
       "<div>\n",
       "<style scoped>\n",
       "    .dataframe tbody tr th:only-of-type {\n",
       "        vertical-align: middle;\n",
       "    }\n",
       "\n",
       "    .dataframe tbody tr th {\n",
       "        vertical-align: top;\n",
       "    }\n",
       "\n",
       "    .dataframe thead th {\n",
       "        text-align: right;\n",
       "    }\n",
       "</style>\n",
       "<table border=\"1\" class=\"dataframe\">\n",
       "  <thead>\n",
       "    <tr style=\"text-align: right;\">\n",
       "      <th></th>\n",
       "      <th>ride_id</th>\n",
       "      <th>fare_amount</th>\n",
       "      <th>pickup_datetime</th>\n",
       "      <th>pickup_longitude</th>\n",
       "      <th>pickup_latitude</th>\n",
       "      <th>dropoff_longitude</th>\n",
       "      <th>dropoff_latitude</th>\n",
       "      <th>passenger_count</th>\n",
       "      <th>pickup_year</th>\n",
       "      <th>pickup_quarter</th>\n",
       "      <th>day_of_week</th>\n",
       "      <th>month</th>\n",
       "      <th>year</th>\n",
       "      <th>distance_km</th>\n",
       "      <th>distance</th>\n",
       "      <th>ride_week_day</th>\n",
       "    </tr>\n",
       "  </thead>\n",
       "  <tbody>\n",
       "    <tr>\n",
       "      <th>0</th>\n",
       "      <td>24238194</td>\n",
       "      <td>7.5</td>\n",
       "      <td>2015-05-07 19:52:06+00:00</td>\n",
       "      <td>-73.999817</td>\n",
       "      <td>40.738354</td>\n",
       "      <td>-73.999512</td>\n",
       "      <td>40.723217</td>\n",
       "      <td>1</td>\n",
       "      <td>2015</td>\n",
       "      <td>2</td>\n",
       "      <td>Thursday</td>\n",
       "      <td>5</td>\n",
       "      <td>2015</td>\n",
       "      <td>1.683323</td>\n",
       "      <td>1.683323</td>\n",
       "      <td>3</td>\n",
       "    </tr>\n",
       "    <tr>\n",
       "      <th>1</th>\n",
       "      <td>27835199</td>\n",
       "      <td>7.7</td>\n",
       "      <td>2009-07-17 20:04:56+00:00</td>\n",
       "      <td>-73.994355</td>\n",
       "      <td>40.728225</td>\n",
       "      <td>-73.994710</td>\n",
       "      <td>40.750325</td>\n",
       "      <td>1</td>\n",
       "      <td>2009</td>\n",
       "      <td>3</td>\n",
       "      <td>Friday</td>\n",
       "      <td>7</td>\n",
       "      <td>2009</td>\n",
       "      <td>2.457590</td>\n",
       "      <td>2.457590</td>\n",
       "      <td>4</td>\n",
       "    </tr>\n",
       "    <tr>\n",
       "      <th>2</th>\n",
       "      <td>44984355</td>\n",
       "      <td>12.9</td>\n",
       "      <td>2009-08-24 21:45:00+00:00</td>\n",
       "      <td>-74.005043</td>\n",
       "      <td>40.740770</td>\n",
       "      <td>-73.962565</td>\n",
       "      <td>40.772647</td>\n",
       "      <td>1</td>\n",
       "      <td>2009</td>\n",
       "      <td>3</td>\n",
       "      <td>Monday</td>\n",
       "      <td>8</td>\n",
       "      <td>2009</td>\n",
       "      <td>5.036377</td>\n",
       "      <td>5.036377</td>\n",
       "      <td>0</td>\n",
       "    </tr>\n",
       "    <tr>\n",
       "      <th>3</th>\n",
       "      <td>25894730</td>\n",
       "      <td>5.3</td>\n",
       "      <td>2009-06-26 08:22:21+00:00</td>\n",
       "      <td>-73.976124</td>\n",
       "      <td>40.790844</td>\n",
       "      <td>-73.965316</td>\n",
       "      <td>40.803349</td>\n",
       "      <td>3</td>\n",
       "      <td>2009</td>\n",
       "      <td>2</td>\n",
       "      <td>Friday</td>\n",
       "      <td>6</td>\n",
       "      <td>2009</td>\n",
       "      <td>1.661683</td>\n",
       "      <td>1.661683</td>\n",
       "      <td>4</td>\n",
       "    </tr>\n",
       "    <tr>\n",
       "      <th>4</th>\n",
       "      <td>17610152</td>\n",
       "      <td>16.0</td>\n",
       "      <td>2014-08-28 17:47:00+00:00</td>\n",
       "      <td>-73.925023</td>\n",
       "      <td>40.744085</td>\n",
       "      <td>-73.973082</td>\n",
       "      <td>40.761247</td>\n",
       "      <td>5</td>\n",
       "      <td>2014</td>\n",
       "      <td>3</td>\n",
       "      <td>Thursday</td>\n",
       "      <td>8</td>\n",
       "      <td>2014</td>\n",
       "      <td>4.475450</td>\n",
       "      <td>4.475450</td>\n",
       "      <td>3</td>\n",
       "    </tr>\n",
       "  </tbody>\n",
       "</table>\n",
       "</div>"
      ],
      "text/plain": [
       "    ride_id  fare_amount           pickup_datetime  pickup_longitude   \n",
       "0  24238194          7.5 2015-05-07 19:52:06+00:00        -73.999817  \\\n",
       "1  27835199          7.7 2009-07-17 20:04:56+00:00        -73.994355   \n",
       "2  44984355         12.9 2009-08-24 21:45:00+00:00        -74.005043   \n",
       "3  25894730          5.3 2009-06-26 08:22:21+00:00        -73.976124   \n",
       "4  17610152         16.0 2014-08-28 17:47:00+00:00        -73.925023   \n",
       "\n",
       "   pickup_latitude  dropoff_longitude  dropoff_latitude  passenger_count   \n",
       "0        40.738354         -73.999512         40.723217                1  \\\n",
       "1        40.728225         -73.994710         40.750325                1   \n",
       "2        40.740770         -73.962565         40.772647                1   \n",
       "3        40.790844         -73.965316         40.803349                3   \n",
       "4        40.744085         -73.973082         40.761247                5   \n",
       "\n",
       "   pickup_year  pickup_quarter day_of_week  month  year  distance_km   \n",
       "0         2015               2    Thursday      5  2015     1.683323  \\\n",
       "1         2009               3      Friday      7  2009     2.457590   \n",
       "2         2009               3      Monday      8  2009     5.036377   \n",
       "3         2009               2      Friday      6  2009     1.661683   \n",
       "4         2014               3    Thursday      8  2014     4.475450   \n",
       "\n",
       "   distance  ride_week_day  \n",
       "0  1.683323              3  \n",
       "1  2.457590              4  \n",
       "2  5.036377              0  \n",
       "3  1.661683              4  \n",
       "4  4.475450              3  "
      ]
     },
     "execution_count": 65,
     "metadata": {},
     "output_type": "execute_result"
    }
   ],
   "source": [
    "df1.head()"
   ]
  },
  {
   "cell_type": "code",
   "execution_count": 66,
   "id": "c32447ec",
   "metadata": {
    "ExecuteTime": {
     "end_time": "2023-09-02T10:03:23.425921Z",
     "start_time": "2023-09-02T10:03:23.305739Z"
    }
   },
   "outputs": [],
   "source": [
    "#a. Identify the Target Variable and Splitting the Data into Train and Test\n",
    "\n",
    "X = df1[['passenger_count', 'distance_km', 'ride_week_day']]\n",
    "y = df1['fare_amount']"
   ]
  },
  {
   "cell_type": "code",
   "execution_count": 67,
   "id": "c370debb",
   "metadata": {
    "ExecuteTime": {
     "end_time": "2023-09-02T10:03:59.343077Z",
     "start_time": "2023-09-02T10:03:36.258853Z"
    }
   },
   "outputs": [],
   "source": [
    "from sklearn.model_selection import train_test_split\n",
    "from sklearn.linear_model import LinearRegression\n",
    "from sklearn.metrics import mean_squared_error, r2_score"
   ]
  },
  {
   "cell_type": "code",
   "execution_count": 68,
   "id": "c879a140",
   "metadata": {
    "ExecuteTime": {
     "end_time": "2023-09-02T10:04:17.924681Z",
     "start_time": "2023-09-02T10:04:17.661172Z"
    }
   },
   "outputs": [],
   "source": [
    "# Perform a 70-30 split of data\n",
    "\n",
    "X_train, X_test, y_train, y_test = train_test_split(X, y, train_size=0.7, random_state=42)"
   ]
  },
  {
   "cell_type": "code",
   "execution_count": 71,
   "id": "fd8d4252",
   "metadata": {
    "ExecuteTime": {
     "end_time": "2023-09-02T10:07:50.982590Z",
     "start_time": "2023-09-02T10:07:50.974577Z"
    }
   },
   "outputs": [
    {
     "name": "stdout",
     "output_type": "stream",
     "text": [
      "(139999, 3) (139999,)\n",
      "(60000, 3) (60000,)\n"
     ]
    }
   ],
   "source": [
    "print(X_train.shape, y_train.shape)\n",
    "print(X_test.shape, y_test.shape)"
   ]
  },
  {
   "cell_type": "code",
   "execution_count": 73,
   "id": "0677d909",
   "metadata": {
    "ExecuteTime": {
     "end_time": "2023-09-02T10:09:28.209608Z",
     "start_time": "2023-09-02T10:09:28.073402Z"
    }
   },
   "outputs": [
    {
     "data": {
      "text/html": [
       "<div>\n",
       "<style scoped>\n",
       "    .dataframe tbody tr th:only-of-type {\n",
       "        vertical-align: middle;\n",
       "    }\n",
       "\n",
       "    .dataframe tbody tr th {\n",
       "        vertical-align: top;\n",
       "    }\n",
       "\n",
       "    .dataframe thead th {\n",
       "        text-align: right;\n",
       "    }\n",
       "</style>\n",
       "<table border=\"1\" class=\"dataframe\">\n",
       "  <thead>\n",
       "    <tr style=\"text-align: right;\">\n",
       "      <th></th>\n",
       "      <th>passenger_count</th>\n",
       "      <th>distance_km</th>\n",
       "      <th>ride_week_day</th>\n",
       "    </tr>\n",
       "  </thead>\n",
       "  <tbody>\n",
       "    <tr>\n",
       "      <th>194320</th>\n",
       "      <td>-0.483094</td>\n",
       "      <td>-0.051319</td>\n",
       "      <td>-0.025817</td>\n",
       "    </tr>\n",
       "    <tr>\n",
       "      <th>774</th>\n",
       "      <td>0.221215</td>\n",
       "      <td>-0.037987</td>\n",
       "      <td>1.001845</td>\n",
       "    </tr>\n",
       "    <tr>\n",
       "      <th>75676</th>\n",
       "      <td>-0.483094</td>\n",
       "      <td>-0.046786</td>\n",
       "      <td>-0.539647</td>\n",
       "    </tr>\n",
       "    <tr>\n",
       "      <th>37127</th>\n",
       "      <td>-0.483094</td>\n",
       "      <td>-0.050603</td>\n",
       "      <td>0.488014</td>\n",
       "    </tr>\n",
       "    <tr>\n",
       "      <th>96757</th>\n",
       "      <td>2.334142</td>\n",
       "      <td>-0.048147</td>\n",
       "      <td>1.515676</td>\n",
       "    </tr>\n",
       "  </tbody>\n",
       "</table>\n",
       "</div>"
      ],
      "text/plain": [
       "        passenger_count  distance_km  ride_week_day\n",
       "194320        -0.483094    -0.051319      -0.025817\n",
       "774            0.221215    -0.037987       1.001845\n",
       "75676         -0.483094    -0.046786      -0.539647\n",
       "37127         -0.483094    -0.050603       0.488014\n",
       "96757          2.334142    -0.048147       1.515676"
      ]
     },
     "execution_count": 73,
     "metadata": {},
     "output_type": "execute_result"
    }
   ],
   "source": [
    "# Scaling the Numerical Features\n",
    "\n",
    "# scaling the numeroical features\n",
    "from sklearn.preprocessing import StandardScaler\n",
    "\n",
    "scaler = StandardScaler()\n",
    "\n",
    "# column names are (annoyingly) lost after Scaling\n",
    "# (i.e. the dataframe is converted to a numpy ndarray)\n",
    "\n",
    "X_train_num_rescaled = pd.DataFrame(scaler.fit_transform(X_train),\n",
    "                                   columns = X_train.columns,\n",
    "                                   index = X_train.index)\n",
    "\n",
    "X_train_num_rescaled.head()"
   ]
  },
  {
   "cell_type": "code",
   "execution_count": 75,
   "id": "3b91e2c6",
   "metadata": {
    "ExecuteTime": {
     "end_time": "2023-09-02T10:12:58.665583Z",
     "start_time": "2023-09-02T10:12:58.626522Z"
    }
   },
   "outputs": [
    {
     "data": {
      "text/html": [
       "<div>\n",
       "<style scoped>\n",
       "    .dataframe tbody tr th:only-of-type {\n",
       "        vertical-align: middle;\n",
       "    }\n",
       "\n",
       "    .dataframe tbody tr th {\n",
       "        vertical-align: top;\n",
       "    }\n",
       "\n",
       "    .dataframe thead th {\n",
       "        text-align: right;\n",
       "    }\n",
       "</style>\n",
       "<table border=\"1\" class=\"dataframe\">\n",
       "  <thead>\n",
       "    <tr style=\"text-align: right;\">\n",
       "      <th></th>\n",
       "      <th>passenger_count</th>\n",
       "      <th>distance_km</th>\n",
       "      <th>ride_week_day</th>\n",
       "    </tr>\n",
       "  </thead>\n",
       "  <tbody>\n",
       "    <tr>\n",
       "      <th>134253</th>\n",
       "      <td>-0.483094</td>\n",
       "      <td>-0.049169</td>\n",
       "      <td>-0.539647</td>\n",
       "    </tr>\n",
       "    <tr>\n",
       "      <th>124141</th>\n",
       "      <td>-0.483094</td>\n",
       "      <td>-0.052124</td>\n",
       "      <td>1.515676</td>\n",
       "    </tr>\n",
       "    <tr>\n",
       "      <th>62810</th>\n",
       "      <td>2.334142</td>\n",
       "      <td>-0.045849</td>\n",
       "      <td>1.001845</td>\n",
       "    </tr>\n",
       "    <tr>\n",
       "      <th>65425</th>\n",
       "      <td>-0.483094</td>\n",
       "      <td>-0.047565</td>\n",
       "      <td>1.515676</td>\n",
       "    </tr>\n",
       "    <tr>\n",
       "      <th>30074</th>\n",
       "      <td>-0.483094</td>\n",
       "      <td>-0.052580</td>\n",
       "      <td>-1.567309</td>\n",
       "    </tr>\n",
       "  </tbody>\n",
       "</table>\n",
       "</div>"
      ],
      "text/plain": [
       "        passenger_count  distance_km  ride_week_day\n",
       "134253        -0.483094    -0.049169      -0.539647\n",
       "124141        -0.483094    -0.052124       1.515676\n",
       "62810          2.334142    -0.045849       1.001845\n",
       "65425         -0.483094    -0.047565       1.515676\n",
       "30074         -0.483094    -0.052580      -1.567309"
      ]
     },
     "execution_count": 75,
     "metadata": {},
     "output_type": "execute_result"
    }
   ],
   "source": [
    "X_test_num_rescaled = pd.DataFrame(scaler.transform(X_test), \n",
    "                                   columns = X_test.columns, \n",
    "                                   index = X_test.index)\n",
    "\n",
    "X_test_num_rescaled.head()"
   ]
  },
  {
   "cell_type": "code",
   "execution_count": 76,
   "id": "e0619b6a",
   "metadata": {
    "ExecuteTime": {
     "end_time": "2023-09-02T10:13:08.711194Z",
     "start_time": "2023-09-02T10:13:08.698172Z"
    }
   },
   "outputs": [
    {
     "name": "stdout",
     "output_type": "stream",
     "text": [
      "Number of Numerical Feature: 3\n",
      "Mean of each column: [ 1.68591204 21.04075628  3.05024322]\n",
      "std of each column: [  1.41983133 385.24612811   1.94616542]\n"
     ]
    }
   ],
   "source": [
    "print('Number of Numerical Feature:', scaler.n_features_in_)\n",
    "print('Mean of each column:', scaler.mean_)\n",
    "print('std of each column:', np.sqrt(scaler.var_))"
   ]
  },
  {
   "cell_type": "code",
   "execution_count": 78,
   "id": "daa6b007",
   "metadata": {
    "ExecuteTime": {
     "end_time": "2023-09-02T10:15:23.771124Z",
     "start_time": "2023-09-02T10:15:23.209779Z"
    }
   },
   "outputs": [
    {
     "data": {
      "text/html": [
       "<style>#sk-container-id-1 {color: black;background-color: white;}#sk-container-id-1 pre{padding: 0;}#sk-container-id-1 div.sk-toggleable {background-color: white;}#sk-container-id-1 label.sk-toggleable__label {cursor: pointer;display: block;width: 100%;margin-bottom: 0;padding: 0.3em;box-sizing: border-box;text-align: center;}#sk-container-id-1 label.sk-toggleable__label-arrow:before {content: \"▸\";float: left;margin-right: 0.25em;color: #696969;}#sk-container-id-1 label.sk-toggleable__label-arrow:hover:before {color: black;}#sk-container-id-1 div.sk-estimator:hover label.sk-toggleable__label-arrow:before {color: black;}#sk-container-id-1 div.sk-toggleable__content {max-height: 0;max-width: 0;overflow: hidden;text-align: left;background-color: #f0f8ff;}#sk-container-id-1 div.sk-toggleable__content pre {margin: 0.2em;color: black;border-radius: 0.25em;background-color: #f0f8ff;}#sk-container-id-1 input.sk-toggleable__control:checked~div.sk-toggleable__content {max-height: 200px;max-width: 100%;overflow: auto;}#sk-container-id-1 input.sk-toggleable__control:checked~label.sk-toggleable__label-arrow:before {content: \"▾\";}#sk-container-id-1 div.sk-estimator input.sk-toggleable__control:checked~label.sk-toggleable__label {background-color: #d4ebff;}#sk-container-id-1 div.sk-label input.sk-toggleable__control:checked~label.sk-toggleable__label {background-color: #d4ebff;}#sk-container-id-1 input.sk-hidden--visually {border: 0;clip: rect(1px 1px 1px 1px);clip: rect(1px, 1px, 1px, 1px);height: 1px;margin: -1px;overflow: hidden;padding: 0;position: absolute;width: 1px;}#sk-container-id-1 div.sk-estimator {font-family: monospace;background-color: #f0f8ff;border: 1px dotted black;border-radius: 0.25em;box-sizing: border-box;margin-bottom: 0.5em;}#sk-container-id-1 div.sk-estimator:hover {background-color: #d4ebff;}#sk-container-id-1 div.sk-parallel-item::after {content: \"\";width: 100%;border-bottom: 1px solid gray;flex-grow: 1;}#sk-container-id-1 div.sk-label:hover label.sk-toggleable__label {background-color: #d4ebff;}#sk-container-id-1 div.sk-serial::before {content: \"\";position: absolute;border-left: 1px solid gray;box-sizing: border-box;top: 0;bottom: 0;left: 50%;z-index: 0;}#sk-container-id-1 div.sk-serial {display: flex;flex-direction: column;align-items: center;background-color: white;padding-right: 0.2em;padding-left: 0.2em;position: relative;}#sk-container-id-1 div.sk-item {position: relative;z-index: 1;}#sk-container-id-1 div.sk-parallel {display: flex;align-items: stretch;justify-content: center;background-color: white;position: relative;}#sk-container-id-1 div.sk-item::before, #sk-container-id-1 div.sk-parallel-item::before {content: \"\";position: absolute;border-left: 1px solid gray;box-sizing: border-box;top: 0;bottom: 0;left: 50%;z-index: -1;}#sk-container-id-1 div.sk-parallel-item {display: flex;flex-direction: column;z-index: 1;position: relative;background-color: white;}#sk-container-id-1 div.sk-parallel-item:first-child::after {align-self: flex-end;width: 50%;}#sk-container-id-1 div.sk-parallel-item:last-child::after {align-self: flex-start;width: 50%;}#sk-container-id-1 div.sk-parallel-item:only-child::after {width: 0;}#sk-container-id-1 div.sk-dashed-wrapped {border: 1px dashed gray;margin: 0 0.4em 0.5em 0.4em;box-sizing: border-box;padding-bottom: 0.4em;background-color: white;}#sk-container-id-1 div.sk-label label {font-family: monospace;font-weight: bold;display: inline-block;line-height: 1.2em;}#sk-container-id-1 div.sk-label-container {text-align: center;}#sk-container-id-1 div.sk-container {/* jupyter's `normalize.less` sets `[hidden] { display: none; }` but bootstrap.min.css set `[hidden] { display: none !important; }` so we also need the `!important` here to be able to override the default hidden behavior on the sphinx rendered scikit-learn.org. See: https://github.com/scikit-learn/scikit-learn/issues/21755 */display: inline-block !important;position: relative;}#sk-container-id-1 div.sk-text-repr-fallback {display: none;}</style><div id=\"sk-container-id-1\" class=\"sk-top-container\"><div class=\"sk-text-repr-fallback\"><pre>LinearRegression()</pre><b>In a Jupyter environment, please rerun this cell to show the HTML representation or trust the notebook. <br />On GitHub, the HTML representation is unable to render, please try loading this page with nbviewer.org.</b></div><div class=\"sk-container\" hidden><div class=\"sk-item\"><div class=\"sk-estimator sk-toggleable\"><input class=\"sk-toggleable__control sk-hidden--visually\" id=\"sk-estimator-id-1\" type=\"checkbox\" checked><label for=\"sk-estimator-id-1\" class=\"sk-toggleable__label sk-toggleable__label-arrow\">LinearRegression</label><div class=\"sk-toggleable__content\"><pre>LinearRegression()</pre></div></div></div></div></div>"
      ],
      "text/plain": [
       "LinearRegression()"
      ]
     },
     "execution_count": 78,
     "metadata": {},
     "output_type": "execute_result"
    }
   ],
   "source": [
    "# Linear Regression\n",
    "\n",
    "from sklearn.linear_model import LinearRegression\n",
    "regressor = LinearRegression()\n",
    "regressor.fit(X_train_num_rescaled, y_train)"
   ]
  },
  {
   "cell_type": "code",
   "execution_count": 81,
   "id": "32954a48",
   "metadata": {
    "ExecuteTime": {
     "end_time": "2023-09-02T10:16:57.443902Z",
     "start_time": "2023-09-02T10:16:57.426356Z"
    }
   },
   "outputs": [],
   "source": [
    "# Prediction\n",
    "\n",
    "y_test_pred = regressor.predict(X_test_num_rescaled)"
   ]
  },
  {
   "cell_type": "code",
   "execution_count": 82,
   "id": "621ef49c",
   "metadata": {
    "ExecuteTime": {
     "end_time": "2023-09-02T10:16:58.267820Z",
     "start_time": "2023-09-02T10:16:58.240779Z"
    }
   },
   "outputs": [
    {
     "data": {
      "text/html": [
       "<div>\n",
       "<style scoped>\n",
       "    .dataframe tbody tr th:only-of-type {\n",
       "        vertical-align: middle;\n",
       "    }\n",
       "\n",
       "    .dataframe tbody tr th {\n",
       "        vertical-align: top;\n",
       "    }\n",
       "\n",
       "    .dataframe thead th {\n",
       "        text-align: right;\n",
       "    }\n",
       "</style>\n",
       "<table border=\"1\" class=\"dataframe\">\n",
       "  <thead>\n",
       "    <tr style=\"text-align: right;\">\n",
       "      <th></th>\n",
       "      <th>Actual</th>\n",
       "      <th>Predicted</th>\n",
       "    </tr>\n",
       "  </thead>\n",
       "  <tbody>\n",
       "    <tr>\n",
       "      <th>134253</th>\n",
       "      <td>6.5</td>\n",
       "      <td>11.272482</td>\n",
       "    </tr>\n",
       "    <tr>\n",
       "      <th>124141</th>\n",
       "      <td>4.1</td>\n",
       "      <td>11.376956</td>\n",
       "    </tr>\n",
       "    <tr>\n",
       "      <th>62810</th>\n",
       "      <td>12.0</td>\n",
       "      <td>11.649461</td>\n",
       "    </tr>\n",
       "    <tr>\n",
       "      <th>65425</th>\n",
       "      <td>7.5</td>\n",
       "      <td>11.378187</td>\n",
       "    </tr>\n",
       "    <tr>\n",
       "      <th>30074</th>\n",
       "      <td>4.1</td>\n",
       "      <td>11.218925</td>\n",
       "    </tr>\n",
       "  </tbody>\n",
       "</table>\n",
       "</div>"
      ],
      "text/plain": [
       "        Actual  Predicted\n",
       "134253     6.5  11.272482\n",
       "124141     4.1  11.376956\n",
       "62810     12.0  11.649461\n",
       "65425      7.5  11.378187\n",
       "30074      4.1  11.218925"
      ]
     },
     "execution_count": 82,
     "metadata": {},
     "output_type": "execute_result"
    }
   ],
   "source": [
    "temp_df = pd.DataFrame({'Actual': y_test, 'Predicted': y_test_pred})\n",
    "\n",
    "temp_df.head()"
   ]
  },
  {
   "cell_type": "code",
   "execution_count": 83,
   "id": "60dd46b7",
   "metadata": {
    "ExecuteTime": {
     "end_time": "2023-09-02T10:18:02.306600Z",
     "start_time": "2023-09-02T10:18:02.284565Z"
    }
   },
   "outputs": [
    {
     "name": "stdout",
     "output_type": "stream",
     "text": [
      "Mean Absolute Error:  6.045032139239538\n",
      "Mean Squared Error:  102.78719617109395\n",
      "Root Mean Squared Error:  10.138402052152694\n"
     ]
    }
   ],
   "source": [
    "from sklearn import metrics\n",
    "\n",
    "MeanAbsoluteError_LR = metrics.mean_absolute_error(y_test, y_test_pred)\n",
    "MeanSquaredError_LR = metrics.mean_squared_error(y_test, y_test_pred)\n",
    "RootMeanSquaredError_LR = np.sqrt(metrics.mean_squared_error(y_test, y_test_pred))\n",
    "                                                \n",
    "print('Mean Absolute Error: ', MeanAbsoluteError_LR)\n",
    "\n",
    "print('Mean Squared Error: ', MeanSquaredError_LR)\n",
    "\n",
    "print('Root Mean Squared Error: ', RootMeanSquaredError_LR)"
   ]
  },
  {
   "cell_type": "code",
   "execution_count": 84,
   "id": "c88f11f9",
   "metadata": {
    "ExecuteTime": {
     "end_time": "2023-09-02T10:18:32.052482Z",
     "start_time": "2023-09-02T10:18:32.037459Z"
    }
   },
   "outputs": [
    {
     "name": "stdout",
     "output_type": "stream",
     "text": [
      "R-squared (R2) Score: 0.0004341139144697914\n"
     ]
    }
   ],
   "source": [
    "from sklearn.metrics import r2_score\n",
    "\n",
    "r2 = r2_score(y_test, y_test_pred)\n",
    "\n",
    "print(\"R-squared (R2) Score:\", r2)"
   ]
  },
  {
   "cell_type": "code",
   "execution_count": 86,
   "id": "a86b5972",
   "metadata": {
    "ExecuteTime": {
     "end_time": "2023-09-02T10:24:18.056136Z",
     "start_time": "2023-09-02T10:22:15.773548Z"
    }
   },
   "outputs": [
    {
     "data": {
      "text/html": [
       "<style>#sk-container-id-3 {color: black;background-color: white;}#sk-container-id-3 pre{padding: 0;}#sk-container-id-3 div.sk-toggleable {background-color: white;}#sk-container-id-3 label.sk-toggleable__label {cursor: pointer;display: block;width: 100%;margin-bottom: 0;padding: 0.3em;box-sizing: border-box;text-align: center;}#sk-container-id-3 label.sk-toggleable__label-arrow:before {content: \"▸\";float: left;margin-right: 0.25em;color: #696969;}#sk-container-id-3 label.sk-toggleable__label-arrow:hover:before {color: black;}#sk-container-id-3 div.sk-estimator:hover label.sk-toggleable__label-arrow:before {color: black;}#sk-container-id-3 div.sk-toggleable__content {max-height: 0;max-width: 0;overflow: hidden;text-align: left;background-color: #f0f8ff;}#sk-container-id-3 div.sk-toggleable__content pre {margin: 0.2em;color: black;border-radius: 0.25em;background-color: #f0f8ff;}#sk-container-id-3 input.sk-toggleable__control:checked~div.sk-toggleable__content {max-height: 200px;max-width: 100%;overflow: auto;}#sk-container-id-3 input.sk-toggleable__control:checked~label.sk-toggleable__label-arrow:before {content: \"▾\";}#sk-container-id-3 div.sk-estimator input.sk-toggleable__control:checked~label.sk-toggleable__label {background-color: #d4ebff;}#sk-container-id-3 div.sk-label input.sk-toggleable__control:checked~label.sk-toggleable__label {background-color: #d4ebff;}#sk-container-id-3 input.sk-hidden--visually {border: 0;clip: rect(1px 1px 1px 1px);clip: rect(1px, 1px, 1px, 1px);height: 1px;margin: -1px;overflow: hidden;padding: 0;position: absolute;width: 1px;}#sk-container-id-3 div.sk-estimator {font-family: monospace;background-color: #f0f8ff;border: 1px dotted black;border-radius: 0.25em;box-sizing: border-box;margin-bottom: 0.5em;}#sk-container-id-3 div.sk-estimator:hover {background-color: #d4ebff;}#sk-container-id-3 div.sk-parallel-item::after {content: \"\";width: 100%;border-bottom: 1px solid gray;flex-grow: 1;}#sk-container-id-3 div.sk-label:hover label.sk-toggleable__label {background-color: #d4ebff;}#sk-container-id-3 div.sk-serial::before {content: \"\";position: absolute;border-left: 1px solid gray;box-sizing: border-box;top: 0;bottom: 0;left: 50%;z-index: 0;}#sk-container-id-3 div.sk-serial {display: flex;flex-direction: column;align-items: center;background-color: white;padding-right: 0.2em;padding-left: 0.2em;position: relative;}#sk-container-id-3 div.sk-item {position: relative;z-index: 1;}#sk-container-id-3 div.sk-parallel {display: flex;align-items: stretch;justify-content: center;background-color: white;position: relative;}#sk-container-id-3 div.sk-item::before, #sk-container-id-3 div.sk-parallel-item::before {content: \"\";position: absolute;border-left: 1px solid gray;box-sizing: border-box;top: 0;bottom: 0;left: 50%;z-index: -1;}#sk-container-id-3 div.sk-parallel-item {display: flex;flex-direction: column;z-index: 1;position: relative;background-color: white;}#sk-container-id-3 div.sk-parallel-item:first-child::after {align-self: flex-end;width: 50%;}#sk-container-id-3 div.sk-parallel-item:last-child::after {align-self: flex-start;width: 50%;}#sk-container-id-3 div.sk-parallel-item:only-child::after {width: 0;}#sk-container-id-3 div.sk-dashed-wrapped {border: 1px dashed gray;margin: 0 0.4em 0.5em 0.4em;box-sizing: border-box;padding-bottom: 0.4em;background-color: white;}#sk-container-id-3 div.sk-label label {font-family: monospace;font-weight: bold;display: inline-block;line-height: 1.2em;}#sk-container-id-3 div.sk-label-container {text-align: center;}#sk-container-id-3 div.sk-container {/* jupyter's `normalize.less` sets `[hidden] { display: none; }` but bootstrap.min.css set `[hidden] { display: none !important; }` so we also need the `!important` here to be able to override the default hidden behavior on the sphinx rendered scikit-learn.org. See: https://github.com/scikit-learn/scikit-learn/issues/21755 */display: inline-block !important;position: relative;}#sk-container-id-3 div.sk-text-repr-fallback {display: none;}</style><div id=\"sk-container-id-3\" class=\"sk-top-container\"><div class=\"sk-text-repr-fallback\"><pre>RandomForestRegressor()</pre><b>In a Jupyter environment, please rerun this cell to show the HTML representation or trust the notebook. <br />On GitHub, the HTML representation is unable to render, please try loading this page with nbviewer.org.</b></div><div class=\"sk-container\" hidden><div class=\"sk-item\"><div class=\"sk-estimator sk-toggleable\"><input class=\"sk-toggleable__control sk-hidden--visually\" id=\"sk-estimator-id-3\" type=\"checkbox\" checked><label for=\"sk-estimator-id-3\" class=\"sk-toggleable__label sk-toggleable__label-arrow\">RandomForestRegressor</label><div class=\"sk-toggleable__content\"><pre>RandomForestRegressor()</pre></div></div></div></div></div>"
      ],
      "text/plain": [
       "RandomForestRegressor()"
      ]
     },
     "execution_count": 86,
     "metadata": {},
     "output_type": "execute_result"
    }
   ],
   "source": [
    "# Random Forest Regression\n",
    "\n",
    "from sklearn.ensemble import RandomForestRegressor\n",
    "regressor = RandomForestRegressor()\n",
    "regressor.fit(X_train_num_rescaled, y_train)"
   ]
  },
  {
   "cell_type": "code",
   "execution_count": 87,
   "id": "fc565304",
   "metadata": {
    "ExecuteTime": {
     "end_time": "2023-09-02T10:24:31.041245Z",
     "start_time": "2023-09-02T10:24:23.814347Z"
    }
   },
   "outputs": [],
   "source": [
    "# Prediction\n",
    "\n",
    "y_test_pred = regressor.predict(X_test_num_rescaled)"
   ]
  },
  {
   "cell_type": "code",
   "execution_count": 89,
   "id": "aee4db43",
   "metadata": {
    "ExecuteTime": {
     "end_time": "2023-09-02T10:29:42.499016Z",
     "start_time": "2023-09-02T10:29:42.007293Z"
    }
   },
   "outputs": [
    {
     "data": {
      "text/html": [
       "<div>\n",
       "<style scoped>\n",
       "    .dataframe tbody tr th:only-of-type {\n",
       "        vertical-align: middle;\n",
       "    }\n",
       "\n",
       "    .dataframe tbody tr th {\n",
       "        vertical-align: top;\n",
       "    }\n",
       "\n",
       "    .dataframe thead th {\n",
       "        text-align: right;\n",
       "    }\n",
       "</style>\n",
       "<table border=\"1\" class=\"dataframe\">\n",
       "  <thead>\n",
       "    <tr style=\"text-align: right;\">\n",
       "      <th></th>\n",
       "      <th>Actual</th>\n",
       "      <th>Predicted</th>\n",
       "    </tr>\n",
       "  </thead>\n",
       "  <tbody>\n",
       "    <tr>\n",
       "      <th>134253</th>\n",
       "      <td>6.5</td>\n",
       "      <td>8.795667</td>\n",
       "    </tr>\n",
       "    <tr>\n",
       "      <th>124141</th>\n",
       "      <td>4.1</td>\n",
       "      <td>5.677976</td>\n",
       "    </tr>\n",
       "    <tr>\n",
       "      <th>62810</th>\n",
       "      <td>12.0</td>\n",
       "      <td>11.906000</td>\n",
       "    </tr>\n",
       "    <tr>\n",
       "      <th>65425</th>\n",
       "      <td>7.5</td>\n",
       "      <td>11.247000</td>\n",
       "    </tr>\n",
       "    <tr>\n",
       "      <th>30074</th>\n",
       "      <td>4.1</td>\n",
       "      <td>4.218000</td>\n",
       "    </tr>\n",
       "  </tbody>\n",
       "</table>\n",
       "</div>"
      ],
      "text/plain": [
       "        Actual  Predicted\n",
       "134253     6.5   8.795667\n",
       "124141     4.1   5.677976\n",
       "62810     12.0  11.906000\n",
       "65425      7.5  11.247000\n",
       "30074      4.1   4.218000"
      ]
     },
     "execution_count": 89,
     "metadata": {},
     "output_type": "execute_result"
    }
   ],
   "source": [
    "temp_df = pd.DataFrame({'Actual': y_test, 'Predicted': y_test_pred})\n",
    "\n",
    "temp_df.head()"
   ]
  },
  {
   "cell_type": "code",
   "execution_count": 88,
   "id": "b2a7ec7c",
   "metadata": {
    "ExecuteTime": {
     "end_time": "2023-09-02T10:25:01.056649Z",
     "start_time": "2023-09-02T10:25:01.022595Z"
    }
   },
   "outputs": [
    {
     "name": "stdout",
     "output_type": "stream",
     "text": [
      "R-squared (R2) Score: 0.6254164012014876\n"
     ]
    }
   ],
   "source": [
    "from sklearn.metrics import r2_score\n",
    "\n",
    "r2 = r2_score(y_test, y_test_pred)\n",
    "\n",
    "print(\"R-squared (R2) Score:\", r2)"
   ]
  },
  {
   "cell_type": "code",
   "execution_count": null,
   "id": "d7cfbc86",
   "metadata": {},
   "outputs": [],
   "source": []
  }
 ],
 "metadata": {
  "kernelspec": {
   "display_name": "Python 3 (ipykernel)",
   "language": "python",
   "name": "python3"
  },
  "language_info": {
   "codemirror_mode": {
    "name": "ipython",
    "version": 3
   },
   "file_extension": ".py",
   "mimetype": "text/x-python",
   "name": "python",
   "nbconvert_exporter": "python",
   "pygments_lexer": "ipython3",
   "version": "3.9.12"
  }
 },
 "nbformat": 4,
 "nbformat_minor": 5
}
